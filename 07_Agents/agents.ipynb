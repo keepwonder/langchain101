{
 "cells": [
  {
   "cell_type": "markdown",
   "metadata": {},
   "source": [
    "# Agent示例"
   ]
  },
  {
   "cell_type": "markdown",
   "metadata": {},
   "source": [
    "## 准备环境"
   ]
  },
  {
   "cell_type": "code",
   "execution_count": 1,
   "metadata": {},
   "outputs": [
    {
     "data": {
      "text/plain": [
       "True"
      ]
     },
     "execution_count": 1,
     "metadata": {},
     "output_type": "execute_result"
    }
   ],
   "source": [
    "from dotenv import load_dotenv\n",
    "\n",
    "load_dotenv()"
   ]
  },
  {
   "cell_type": "code",
   "execution_count": null,
   "metadata": {},
   "outputs": [],
   "source": [
    "# ! pip install -q duckduckgo-searchc\n",
    "# ! pip install -q wikipedia\n",
    "# ! pip install -q google-search-results"
   ]
  },
  {
   "cell_type": "markdown",
   "metadata": {},
   "source": [
    "## 示例代码"
   ]
  },
  {
   "cell_type": "markdown",
   "metadata": {},
   "source": [
    "### Tool"
   ]
  },
  {
   "cell_type": "markdown",
   "metadata": {},
   "source": [
    "1. 通过工具类创建工具实例"
   ]
  },
  {
   "cell_type": "code",
   "execution_count": 2,
   "metadata": {},
   "outputs": [
    {
     "data": {
      "text/plain": [
       "'France won the FIFA World Cup 2018, defeating Croatia 4-2 in the final match.'"
      ]
     },
     "execution_count": 2,
     "metadata": {},
     "output_type": "execute_result"
    }
   ],
   "source": [
    "from langchain.tools.tavily_search import TavilySearchResults, TavilyAnswer\n",
    "\n",
    "\n",
    "search = TavilyAnswer()\n",
    "\n",
    "search.run('Who is winner of FIFA worldcup 2018?')"
   ]
  },
  {
   "cell_type": "code",
   "execution_count": 12,
   "metadata": {},
   "outputs": [
    {
     "data": {
      "text/plain": [
       "[{'url': 'https://en.wikipedia.org/wiki/2018_FIFA_World_Cup',\n",
       "  'content': \"Contents 2018 FIFA World Cup  The 2018 FIFA World Cup was the 21st FIFA World Cup, the quadrennial world championship for national football teams  for the 2018 FIFA World Cup, two of which were joint bids: England, Russia, Netherlands/Belgium, and Portugal/Spain.[6]  2017 Africa Cup of Nations winners Cameroon; two-time Copa América champions and 2017 Confederations Cup runners-upCroatian player Luka Modrić was voted the tournament's best player, winning the Golden Ball. England 's Harry Kane won the Golden Boot as he scored the most goals during the tournament with six. Belgium 's Thibaut Courtois won the Golden Glove, awarded to the goalkeeper with the best performance.\"},\n",
       " {'url': 'https://www.sportingnews.com/us/soccer/news/who-won-last-world-cup-russia-2018-champion-france-fifa/q3lwiyioksvxcab1sy1jxgvf',\n",
       "  'content': \"MORE: Argentina vs France live in the final of World Cup 2022 Who won the 2018 World Cup?  Edition Who won the last World Cup at Russia 2018? Revisiting France's championship run  Which countries have defended their World Cup title?  How champions have fared in World CupsThat feat was matched by the incredible Brazil side more than two decades later, with Pele scoring twice in their 5-2 final win over hosts Sweden in Stockholm in 1958 before they beat ...\"},\n",
       " {'url': 'https://en.wikipedia.org/wiki/2018_FIFA_World_Cup_final',\n",
       "  'content': 'Contents 2018 FIFA World Cup final  The 2018 FIFA World Cup was the 21st edition of the World Cup, FIFA\\'s football competition for national teams, held in  many members of the team having passed the age of thirty, the 2018 World Cup was described as \"surely a last quest  The defending champions from the 2014 World Cup were Germany.[6] They were eliminated in the group phase at the 2018Griezmann was named the man of the match, while Croatia\\'s Luka Modrić was awarded the Golden Ball as FIFA\\'s outstanding player of the tournament. The final was the highest-scoring World Cup final since 1966.'},\n",
       " {'url': 'https://www.bbc.com/sport/football/44840817',\n",
       "  'content': '2018 Fifa World Cup A biblical rainstorm & men in suits obscuring the crucial moment - the bizarre end to the World Cup  Accessibility links World Cup 2018: Harry Kane wins Golden Boot and Luka Modric the Golden Ball  a deserved winner of the Golden Ball.\"  Last updated on 15 July 201815 July 2018.From the section World Cupcomments679England captain Harry Kane has won the Golden Boot after finishing as the World Cup\\'s top scorer with Croatia\\'s Luka Modric winning the Golden Ball for being the player of the tournament....'},\n",
       " {'url': 'https://www.bbc.co.uk/sport/football/44754965',\n",
       "  'content': \"2018 Fifa World Cup A biblical rainstorm & men in suits obscuring the crucial moment - the bizarre end to the World Cup  Accessibility links World Cup 2018: France beat Croatia 4-2 in World Cup final  Last updated on 15 July 201815 July 2018.From the section World Cupcomments1772  France beat Croatia 4-2 to win World Cup - the best of the action in three minutesFrance won the Fifa World Cup for the second time by overcoming Croatia's bold challenge in a thrilling final in Moscow's Luzhniki Stadium. Didier Deschamps' side repeated the success on home...\"}]"
      ]
     },
     "execution_count": 12,
     "metadata": {},
     "output_type": "execute_result"
    }
   ],
   "source": [
    "search = TavilySearchResults()\n",
    "\n",
    "search.run('Who is winner of FIFA worldcup 2018?')"
   ]
  },
  {
   "cell_type": "markdown",
   "metadata": {},
   "source": [
    "2. 通过 `load_tools` 加载"
   ]
  },
  {
   "cell_type": "code",
   "execution_count": 3,
   "metadata": {},
   "outputs": [],
   "source": [
    "from langchain.agents import load_tools\n",
    "\n",
    "tools = load_tools(['serpapi'])\n",
    "# tools = load_tools(['ddg-search'])\n"
   ]
  },
  {
   "cell_type": "code",
   "execution_count": 46,
   "metadata": {},
   "outputs": [
    {
     "data": {
      "text/plain": [
       "[Tool(name='Search', description='A search engine. Useful for when you need to answer questions about current events. Input should be a search query.', func=<bound method SerpAPIWrapper.run of SerpAPIWrapper(search_engine=<class 'serpapi.google_search.GoogleSearch'>, params={'engine': 'google', 'google_domain': 'google.com', 'gl': 'us', 'hl': 'en'}, serpapi_api_key='2ec917e4506fbcd348e36d7262b3d1c571b44e958d88e5b2d44a8f953e928d24', aiosession=None)>, coroutine=<bound method SerpAPIWrapper.arun of SerpAPIWrapper(search_engine=<class 'serpapi.google_search.GoogleSearch'>, params={'engine': 'google', 'google_domain': 'google.com', 'gl': 'us', 'hl': 'en'}, serpapi_api_key='2ec917e4506fbcd348e36d7262b3d1c571b44e958d88e5b2d44a8f953e928d24', aiosession=None)>)]"
      ]
     },
     "execution_count": 46,
     "metadata": {},
     "output_type": "execute_result"
    }
   ],
   "source": [
    "tools"
   ]
  },
  {
   "cell_type": "code",
   "execution_count": null,
   "metadata": {},
   "outputs": [],
   "source": [
    "search = tools[0]\n",
    "search.run(\"Who is winner of FIFA worldcup 2018?\")"
   ]
  },
  {
   "cell_type": "markdown",
   "metadata": {},
   "source": [
    "3. 查看 `LangChain` 内置支持的工具列表"
   ]
  },
  {
   "cell_type": "code",
   "execution_count": 4,
   "metadata": {},
   "outputs": [
    {
     "name": "stdout",
     "output_type": "stream",
     "text": [
      "50\n"
     ]
    }
   ],
   "source": [
    "from langchain.agents import get_all_tool_names\n",
    "\n",
    "tools = get_all_tool_names()\n",
    "print(len(tools))"
   ]
  },
  {
   "cell_type": "code",
   "execution_count": 5,
   "metadata": {},
   "outputs": [
    {
     "data": {
      "text/plain": [
       "['requests',\n",
       " 'requests_get',\n",
       " 'requests_post',\n",
       " 'requests_patch',\n",
       " 'requests_put',\n",
       " 'requests_delete',\n",
       " 'terminal',\n",
       " 'sleep',\n",
       " 'wolfram-alpha',\n",
       " 'google-search',\n",
       " 'google-search-results-json',\n",
       " 'searx-search-results-json',\n",
       " 'bing-search',\n",
       " 'metaphor-search',\n",
       " 'ddg-search',\n",
       " 'google-lens',\n",
       " 'google-serper',\n",
       " 'google-scholar',\n",
       " 'google-finance',\n",
       " 'google-trends',\n",
       " 'google-jobs',\n",
       " 'google-serper-results-json',\n",
       " 'searchapi',\n",
       " 'searchapi-results-json',\n",
       " 'serpapi',\n",
       " 'dalle-image-generator',\n",
       " 'twilio',\n",
       " 'searx-search',\n",
       " 'merriam-webster',\n",
       " 'wikipedia',\n",
       " 'arxiv',\n",
       " 'golden-query',\n",
       " 'pubmed',\n",
       " 'human',\n",
       " 'awslambda',\n",
       " 'stackexchange',\n",
       " 'sceneXplain',\n",
       " 'graphql',\n",
       " 'openweathermap-api',\n",
       " 'dataforseo-api-search',\n",
       " 'dataforseo-api-search-json',\n",
       " 'eleven_labs_text2speech',\n",
       " 'google_cloud_texttospeech',\n",
       " 'reddit_search',\n",
       " 'news-api',\n",
       " 'tmdb-api',\n",
       " 'podcast-api',\n",
       " 'memorize',\n",
       " 'llm-math',\n",
       " 'open-meteo-api']"
      ]
     },
     "execution_count": 5,
     "metadata": {},
     "output_type": "execute_result"
    }
   ],
   "source": [
    "tools"
   ]
  },
  {
   "cell_type": "markdown",
   "metadata": {},
   "source": [
    "### Agent"
   ]
  },
  {
   "cell_type": "code",
   "execution_count": 6,
   "metadata": {},
   "outputs": [
    {
     "name": "stderr",
     "output_type": "stream",
     "text": [
      "c:\\Envs\\langchain_v0.1.0\\lib\\site-packages\\langchain_core\\_api\\deprecation.py:117: LangChainDeprecationWarning: The function `initialize_agent` was deprecated in LangChain 0.1.0 and will be removed in 0.2.0. Use Use new agent constructor methods like create_react_agent, create_json_agent, create_structured_chat_agent, etc. instead.\n",
      "  warn_deprecated(\n",
      "c:\\Envs\\langchain_v0.1.0\\lib\\site-packages\\langchain_core\\_api\\deprecation.py:117: LangChainDeprecationWarning: The function `run` was deprecated in LangChain 0.1.0 and will be removed in 0.2.0. Use invoke instead.\n",
      "  warn_deprecated(\n"
     ]
    },
    {
     "name": "stdout",
     "output_type": "stream",
     "text": [
      "\n",
      "\n",
      "\u001b[1m> Entering new AgentExecutor chain...\u001b[0m\n",
      "\u001b[32;1m\u001b[1;3m I should use a calculator to find the height difference.\n",
      "Action: Calculator\n",
      "Action Input: Eiffel Tower height - Taiwan 101 Tower height\u001b[0m\n",
      "Observation: \u001b[33;1m\u001b[1;3mAnswer: -184\u001b[0m\n",
      "Thought:\u001b[32;1m\u001b[1;3m I should double check my answer using a search engine.\n",
      "Action: Search\n",
      "Action Input: \"Height difference between Eiffel Tower and Taiwan 101 Tower\"\u001b[0m\n",
      "Observation: \u001b[36;1m\u001b[1;3m['Due to the addition of a broadcasting aerial at the top of the tower in 1957, it is now taller than the Chrysler Building by 5.2 metres (17 ft). Excluding ...', \"Taipei 101, Taipei, Taiwan - 1,667 feet. taipei 101 over taipei skyline GoodyO/Shutterstock. Taiwan is one of the world's primary sources of ...\", '... is even taller with a total height of 1,432 m (4,698 ft). Taipei 101 in Taipei, Taiwan, set records in three of the four skyscraper categories at the time ...', \"Standing at 330 meters, the Eiffel Tower may be shorter than the Empire State Building's 443 meters, but its design, views, and cultural ...\", \"There are no human-made structures over 1km in height. The Burj Khalifa stands 829m high and is the tallest such structure. Taipei 101 isn't ...\", \"Standing 333 metres high in the centre of Tokyo, Tokyo Tower is the world's tallest, self-supported steel tower and 13 metres taller than its model, the Eiffel ...\", 'Tallest building in the world 1974–1998 (by structural height). 41°52′44.1″N 87°38′10.2″W\\ufeff / \\ufeff41.878917°N 87.636167°W\\ufeff / 41.878917; -87.636167. 17, One World ...', \"What's the tallest building in the world? Find out in this infographic containing The Eiffek Tower, Empire State Building, the Burj Khalifa ...\", 'Its height is. 452m. 3. Taipei 101: The Taipei 101 is amazing building situated n Taiwan. The tower consists of 101 stories and.']\u001b[0m\n",
      "Thought:\u001b[32;1m\u001b[1;3m I should read through the search results to find the most reliable source.\n",
      "Action: Search\n",
      "Action Input: \"Height difference between Eiffel Tower and Taiwan 101 Tower\"\u001b[0m\n",
      "Observation: \u001b[36;1m\u001b[1;3m['Due to the addition of a broadcasting aerial at the top of the tower in 1957, it is now taller than the Chrysler Building by 5.2 metres (17 ft). Excluding ...', \"Taipei 101, Taipei, Taiwan - 1,667 feet. taipei 101 over taipei skyline GoodyO/Shutterstock. Taiwan is one of the world's primary sources of ...\", '... is even taller with a total height of 1,432 m (4,698 ft). Taipei 101 in Taipei, Taiwan, set records in three of the four skyscraper categories at the time ...', \"Standing at 330 meters, the Eiffel Tower may be shorter than the Empire State Building's 443 meters, but its design, views, and cultural ...\", \"There are no human-made structures over 1km in height. The Burj Khalifa stands 829m high and is the tallest such structure. Taipei 101 isn't ...\", \"Standing 333 metres high in the centre of Tokyo, Tokyo Tower is the world's tallest, self-supported steel tower and 13 metres taller than its model, the Eiffel ...\", 'Tallest building in the world 1974–1998 (by structural height). 41°52′44.1″N 87°38′10.2″W\\ufeff / \\ufeff41.878917°N 87.636167°W\\ufeff / 41.878917; -87.636167. 17, One World ...', \"What's the tallest building in the world? Find out in this infographic containing The Eiffek Tower, Empire State Building, the Burj Khalifa ...\", 'Its height is. 452m. 3. Taipei 101: The Taipei 101 is amazing building situated n Taiwan. The tower consists of 101 stories and.']\u001b[0m\n",
      "Thought:\u001b[32;1m\u001b[1;3m I should compare the information from different sources to ensure accuracy.\n",
      "Action: Search\n",
      "Action Input: \"Height difference between Eiffel Tower and Taiwan 101 Tower\"\u001b[0m\n",
      "Observation: \u001b[36;1m\u001b[1;3m['Due to the addition of a broadcasting aerial at the top of the tower in 1957, it is now taller than the Chrysler Building by 5.2 metres (17 ft). Excluding ...', \"Taipei 101, Taipei, Taiwan - 1,667 feet. taipei 101 over taipei skyline GoodyO/Shutterstock. Taiwan is one of the world's primary sources of ...\", '... is even taller with a total height of 1,432 m (4,698 ft). Taipei 101 in Taipei, Taiwan, set records in three of the four skyscraper categories at the time ...', \"Standing at 330 meters, the Eiffel Tower may be shorter than the Empire State Building's 443 meters, but its design, views, and cultural ...\", \"There are no human-made structures over 1km in height. The Burj Khalifa stands 829m high and is the tallest such structure. Taipei 101 isn't ...\", \"Standing 333 metres high in the centre of Tokyo, Tokyo Tower is the world's tallest, self-supported steel tower and 13 metres taller than its model, the Eiffel ...\", 'Tallest building in the world 1974–1998 (by structural height). 41°52′44.1″N 87°38′10.2″W\\ufeff / \\ufeff41.878917°N 87.636167°W\\ufeff / 41.878917; -87.636167. 17, One World ...', \"What's the tallest building in the world? Find out in this infographic containing The Eiffek Tower, Empire State Building, the Burj Khalifa ...\", 'Its height is. 452m. 3. Taipei 101: The Taipei 101 is amazing building situated n Taiwan. The tower consists of 101 stories and.']\u001b[0m\n",
      "Thought:\u001b[32;1m\u001b[1;3m I now know the final answer.\n",
      "Final Answer: The height difference between Eiffel Tower and Taiwan 101 Tower is approximately 184 meters, with Taipei 101 being taller.\u001b[0m\n",
      "\n",
      "\u001b[1m> Finished chain.\u001b[0m\n"
     ]
    },
    {
     "data": {
      "text/plain": [
       "'The height difference between Eiffel Tower and Taiwan 101 Tower is approximately 184 meters, with Taipei 101 being taller.'"
      ]
     },
     "execution_count": 6,
     "metadata": {},
     "output_type": "execute_result"
    }
   ],
   "source": [
    "from langchain.agents import load_tools\n",
    "from langchain.agents import initialize_agent\n",
    "from langchain.agents import AgentType\n",
    "from langchain_openai import OpenAI\n",
    "\n",
    "llm = OpenAI(temperature=0)\n",
    "tools = load_tools(['serpapi', 'llm-math'], llm=llm)\n",
    "agent = initialize_agent(tools, llm, agent=AgentType.ZERO_SHOT_REACT_DESCRIPTION, verbose=True)\n",
    "agent.run(\"What is the height difference between Eiffel Tower and Taiwan 101 Tower?\")\n"
   ]
  },
  {
   "cell_type": "code",
   "execution_count": null,
   "metadata": {},
   "outputs": [],
   "source": []
  }
 ],
 "metadata": {
  "kernelspec": {
   "display_name": "langchain_v0.1.0",
   "language": "python",
   "name": "python3"
  },
  "language_info": {
   "codemirror_mode": {
    "name": "ipython",
    "version": 3
   },
   "file_extension": ".py",
   "mimetype": "text/x-python",
   "name": "python",
   "nbconvert_exporter": "python",
   "pygments_lexer": "ipython3",
   "version": "3.9.13"
  }
 },
 "nbformat": 4,
 "nbformat_minor": 2
}
