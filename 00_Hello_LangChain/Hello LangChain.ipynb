{
 "cells": [
  {
   "cell_type": "markdown",
   "metadata": {},
   "source": [
    "# LangChain入门之 Hello LangChain"
   ]
  },
  {
   "cell_type": "code",
   "execution_count": 1,
   "metadata": {},
   "outputs": [
    {
     "name": "stdout",
     "output_type": "stream",
     "text": [
      "Looking in indexes: https://pypi.tuna.tsinghua.edu.cn/simple\n",
      "Requirement already satisfied: langchain==0.1.2 in c:\\envs\\langchain_v0.1.0\\lib\\site-packages (0.1.2)\n",
      "Requirement already satisfied: openai in c:\\envs\\langchain_v0.1.0\\lib\\site-packages (1.9.0)\n",
      "Requirement already satisfied: PyYAML>=5.3 in c:\\envs\\langchain_v0.1.0\\lib\\site-packages (from langchain==0.1.2) (6.0.1)\n",
      "Requirement already satisfied: SQLAlchemy<3,>=1.4 in c:\\envs\\langchain_v0.1.0\\lib\\site-packages (from langchain==0.1.2) (2.0.25)\n",
      "Requirement already satisfied: aiohttp<4.0.0,>=3.8.3 in c:\\envs\\langchain_v0.1.0\\lib\\site-packages (from langchain==0.1.2) (3.9.1)\n",
      "Requirement already satisfied: async-timeout<5.0.0,>=4.0.0 in c:\\envs\\langchain_v0.1.0\\lib\\site-packages (from langchain==0.1.2) (4.0.3)\n",
      "Requirement already satisfied: dataclasses-json<0.7,>=0.5.7 in c:\\envs\\langchain_v0.1.0\\lib\\site-packages (from langchain==0.1.2) (0.6.3)\n",
      "Requirement already satisfied: jsonpatch<2.0,>=1.33 in c:\\envs\\langchain_v0.1.0\\lib\\site-packages (from langchain==0.1.2) (1.33)\n",
      "Requirement already satisfied: langchain-community<0.1,>=0.0.14 in c:\\envs\\langchain_v0.1.0\\lib\\site-packages (from langchain==0.1.2) (0.0.14)\n",
      "Requirement already satisfied: langchain-core<0.2,>=0.1.14 in c:\\envs\\langchain_v0.1.0\\lib\\site-packages (from langchain==0.1.2) (0.1.14)\n",
      "Requirement already satisfied: langsmith<0.0.84,>=0.0.83 in c:\\envs\\langchain_v0.1.0\\lib\\site-packages (from langchain==0.1.2) (0.0.83)\n",
      "Requirement already satisfied: numpy<2,>=1 in c:\\envs\\langchain_v0.1.0\\lib\\site-packages (from langchain==0.1.2) (1.26.3)\n",
      "Requirement already satisfied: pydantic<3,>=1 in c:\\envs\\langchain_v0.1.0\\lib\\site-packages (from langchain==0.1.2) (2.5.3)\n",
      "Requirement already satisfied: requests<3,>=2 in c:\\envs\\langchain_v0.1.0\\lib\\site-packages (from langchain==0.1.2) (2.31.0)\n",
      "Requirement already satisfied: tenacity<9.0.0,>=8.1.0 in c:\\envs\\langchain_v0.1.0\\lib\\site-packages (from langchain==0.1.2) (8.2.3)\n",
      "Requirement already satisfied: anyio<5,>=3.5.0 in c:\\envs\\langchain_v0.1.0\\lib\\site-packages (from openai) (4.2.0)\n",
      "Requirement already satisfied: distro<2,>=1.7.0 in c:\\envs\\langchain_v0.1.0\\lib\\site-packages (from openai) (1.9.0)\n",
      "Requirement already satisfied: httpx<1,>=0.23.0 in c:\\envs\\langchain_v0.1.0\\lib\\site-packages (from openai) (0.26.0)\n",
      "Requirement already satisfied: sniffio in c:\\envs\\langchain_v0.1.0\\lib\\site-packages (from openai) (1.3.0)\n",
      "Requirement already satisfied: tqdm>4 in c:\\envs\\langchain_v0.1.0\\lib\\site-packages (from openai) (4.66.1)\n",
      "Requirement already satisfied: typing-extensions<5,>=4.7 in c:\\envs\\langchain_v0.1.0\\lib\\site-packages (from openai) (4.9.0)\n",
      "Requirement already satisfied: attrs>=17.3.0 in c:\\envs\\langchain_v0.1.0\\lib\\site-packages (from aiohttp<4.0.0,>=3.8.3->langchain==0.1.2) (23.2.0)\n",
      "Requirement already satisfied: multidict<7.0,>=4.5 in c:\\envs\\langchain_v0.1.0\\lib\\site-packages (from aiohttp<4.0.0,>=3.8.3->langchain==0.1.2) (6.0.4)\n",
      "Requirement already satisfied: yarl<2.0,>=1.0 in c:\\envs\\langchain_v0.1.0\\lib\\site-packages (from aiohttp<4.0.0,>=3.8.3->langchain==0.1.2) (1.9.4)\n",
      "Requirement already satisfied: frozenlist>=1.1.1 in c:\\envs\\langchain_v0.1.0\\lib\\site-packages (from aiohttp<4.0.0,>=3.8.3->langchain==0.1.2) (1.4.1)\n",
      "Requirement already satisfied: aiosignal>=1.1.2 in c:\\envs\\langchain_v0.1.0\\lib\\site-packages (from aiohttp<4.0.0,>=3.8.3->langchain==0.1.2) (1.3.1)\n",
      "Requirement already satisfied: idna>=2.8 in c:\\envs\\langchain_v0.1.0\\lib\\site-packages (from anyio<5,>=3.5.0->openai) (3.6)\n",
      "Requirement already satisfied: exceptiongroup>=1.0.2 in c:\\envs\\langchain_v0.1.0\\lib\\site-packages (from anyio<5,>=3.5.0->openai) (1.2.0)\n",
      "Requirement already satisfied: marshmallow<4.0.0,>=3.18.0 in c:\\envs\\langchain_v0.1.0\\lib\\site-packages (from dataclasses-json<0.7,>=0.5.7->langchain==0.1.2) (3.20.1)\n",
      "Requirement already satisfied: typing-inspect<1,>=0.4.0 in c:\\envs\\langchain_v0.1.0\\lib\\site-packages (from dataclasses-json<0.7,>=0.5.7->langchain==0.1.2) (0.9.0)\n",
      "Requirement already satisfied: certifi in c:\\envs\\langchain_v0.1.0\\lib\\site-packages (from httpx<1,>=0.23.0->openai) (2023.11.17)\n",
      "Requirement already satisfied: httpcore==1.* in c:\\envs\\langchain_v0.1.0\\lib\\site-packages (from httpx<1,>=0.23.0->openai) (1.0.2)\n",
      "Requirement already satisfied: h11<0.15,>=0.13 in c:\\envs\\langchain_v0.1.0\\lib\\site-packages (from httpcore==1.*->httpx<1,>=0.23.0->openai) (0.14.0)\n",
      "Requirement already satisfied: jsonpointer>=1.9 in c:\\envs\\langchain_v0.1.0\\lib\\site-packages (from jsonpatch<2.0,>=1.33->langchain==0.1.2) (2.4)\n",
      "Requirement already satisfied: packaging<24.0,>=23.2 in c:\\envs\\langchain_v0.1.0\\lib\\site-packages (from langchain-core<0.2,>=0.1.14->langchain==0.1.2) (23.2)\n",
      "Requirement already satisfied: annotated-types>=0.4.0 in c:\\envs\\langchain_v0.1.0\\lib\\site-packages (from pydantic<3,>=1->langchain==0.1.2) (0.6.0)\n",
      "Requirement already satisfied: pydantic-core==2.14.6 in c:\\envs\\langchain_v0.1.0\\lib\\site-packages (from pydantic<3,>=1->langchain==0.1.2) (2.14.6)\n",
      "Requirement already satisfied: charset-normalizer<4,>=2 in c:\\envs\\langchain_v0.1.0\\lib\\site-packages (from requests<3,>=2->langchain==0.1.2) (3.3.2)\n",
      "Requirement already satisfied: urllib3<3,>=1.21.1 in c:\\envs\\langchain_v0.1.0\\lib\\site-packages (from requests<3,>=2->langchain==0.1.2) (2.1.0)\n",
      "Requirement already satisfied: greenlet!=0.4.17 in c:\\envs\\langchain_v0.1.0\\lib\\site-packages (from SQLAlchemy<3,>=1.4->langchain==0.1.2) (3.0.3)\n",
      "Requirement already satisfied: colorama in c:\\envs\\langchain_v0.1.0\\lib\\site-packages (from tqdm>4->openai) (0.4.6)\n",
      "Requirement already satisfied: mypy-extensions>=0.3.0 in c:\\envs\\langchain_v0.1.0\\lib\\site-packages (from typing-inspect<1,>=0.4.0->dataclasses-json<0.7,>=0.5.7->langchain==0.1.2) (1.0.0)\n"
     ]
    },
    {
     "name": "stderr",
     "output_type": "stream",
     "text": [
      "\n",
      "[notice] A new release of pip is available: 23.3.1 -> 23.3.2\n",
      "[notice] To update, run: python.exe -m pip install --upgrade pip\n"
     ]
    }
   ],
   "source": [
    "! pip install langchain==0.1.2 openai"
   ]
  },
  {
   "cell_type": "code",
   "execution_count": 8,
   "metadata": {},
   "outputs": [
    {
     "data": {
      "text/plain": [
       "True"
      ]
     },
     "execution_count": 8,
     "metadata": {},
     "output_type": "execute_result"
    }
   ],
   "source": [
    "# 加载环境\n",
    "from dotenv import load_dotenv\n",
    "\n",
    "load_dotenv()"
   ]
  },
  {
   "cell_type": "markdown",
   "metadata": {},
   "source": [
    "## 最简单的调用"
   ]
  },
  {
   "cell_type": "code",
   "execution_count": 9,
   "metadata": {},
   "outputs": [
    {
     "name": "stdout",
     "output_type": "stream",
     "text": [
      "content=\"LangChain can help with creating an LLM (Language Learning Management) app in the following ways:\\n\\n1. Language Content: LangChain provides a vast library of language learning content, including vocabulary, grammar, speaking exercises, listening exercises, and more. This content can be integrated into the app to provide users with a comprehensive language learning experience.\\n\\n2. AI-Powered Learning: LangChain's AI technology can be utilized to create personalized learning paths for each user based on their proficiency level, learning style, and goals. The app can offer customized lessons, quizzes, and exercises to optimize the learning process.\\n\\n3. Speech Recognition: LangChain's speech recognition technology can be integrated into the app to provide real-time feedback on pronunciation and speaking skills. This feature allows users to practice speaking in the target language and receive instant feedback for improvement.\\n\\n4. Progress Tracking: The app can leverage LangChain's progress tracking system to keep users motivated and engaged. It can provide detailed insights into users' learning progress, including their strengths, weaknesses, and areas for improvement. This data can be used to tailor the learning experience and provide targeted recommendations.\\n\\n5. Social Integration: LangChain's social integration capabilities can enable users to connect with other language learners, practice speaking with native speakers, and participate in language exchange activities. This feature promotes interaction and collaboration, making the learning process more engaging and immersive.\\n\\n6. Mobile Compatibility: LangChain can ensure that the LLM app is compatible with various mobile platforms, including iOS and Android. This allows users to access the app on their preferred devices, making language learning convenient and accessible anytime, anywhere.\\n\\nOverall, LangChain's language learning technologies and resources can enhance the development of an LLM app by providing high-quality content, personalized learning experiences, advanced speech recognition, progress tracking, social integration, and mobile compatibility.\"\n"
     ]
    }
   ],
   "source": [
    "from langchain_openai import ChatOpenAI\n",
    "\n",
    "llm = ChatOpenAI()\n",
    "\n",
    "response = llm.invoke('How can LangChain help with create LLM app?')\n",
    "print(response)"
   ]
  },
  {
   "cell_type": "markdown",
   "metadata": {},
   "source": [
    "## 提示词模板"
   ]
  },
  {
   "cell_type": "code",
   "execution_count": 4,
   "metadata": {},
   "outputs": [
    {
     "data": {
      "text/plain": [
       "AIMessage(content=\"LangChain can help in creating an LLM (Language Learning Management) app by providing a range of features and functionalities specifically designed for language learning. Here are some ways LangChain can assist:\\n\\n1. Content Management: LangChain offers a content management system that allows the app administrator to easily manage and update language learning materials such as lessons, quizzes, vocabulary lists, and audio recordings.\\n\\n2. User Management: The app can facilitate user registration, login, and profile management. It enables learners to track their progress, save their preferences, and access personalized content based on their language proficiency and learning goals.\\n\\n3. Curriculum Design: LangChain provides tools to design and organize language learning curricula. This includes defining learning objectives, structuring lesson plans, and sequencing content to ensure a logical progression for learners.\\n\\n4. Gamification Features: The app can integrate gamification elements like badges, achievements, leaderboards, and rewards to motivate and engage learners. This enhances the learning experience and encourages users to consistently participate and improve their language skills.\\n\\n5. Social Interaction: LangChain enables learners to connect with other users through chat, forums, and communities. This fosters a collaborative learning environment where learners can practice their language skills, share knowledge, and receive feedback from peers.\\n\\n6. Progress Tracking and Analytics: The app can track and analyze learners' progress, providing insights into their strengths, weaknesses, and areas for improvement. This data can be used to personalize learning experiences, offer targeted recommendations, and generate detailed reports for learners and administrators.\\n\\n7. Integration with Language Resources: LangChain can integrate with external language resources such as dictionaries, translation services, pronunciation guides, and cultural references. This enriches the learning experience and provides learners with comprehensive language learning support.\\n\\n8. Mobile Accessibility: LangChain ensures that the app is accessible on mobile devices, allowing learners to learn anytime, anywhere. The app can be developed for both iOS and Android platforms, catering to a wider user base.\\n\\nBy leveraging LangChain's features and functionalities, developers can create a robust and user-friendly LLM app that enhances language learning experiences for learners of all levels.\")"
      ]
     },
     "execution_count": 4,
     "metadata": {},
     "output_type": "execute_result"
    }
   ],
   "source": [
    "from langchain_core.prompts import ChatPromptTemplate\n",
    "\n",
    "prompt = ChatPromptTemplate.from_messages([\n",
    "    ('system','You are a world class technical documentation writer.'),\n",
    "    ('user', '{input}')\n",
    "])\n",
    "\n",
    "chain = prompt | llm  # LCEL\n",
    "\n",
    "chain.invoke({'input': 'How can LangChain help with create LLM app?'})"
   ]
  },
  {
   "cell_type": "markdown",
   "metadata": {},
   "source": [
    "## 输出解析"
   ]
  },
  {
   "cell_type": "code",
   "execution_count": 5,
   "metadata": {},
   "outputs": [
    {
     "data": {
      "text/plain": [
       "\"LangChain can provide assistance in creating an LLM (Language Learning Management) app by offering a range of features and functionalities that enhance language learning experiences. Here are some ways LangChain can help:\\n\\n1. Content Management: LangChain enables you to organize and manage language learning content efficiently. It allows you to create and upload multimedia materials such as videos, audio files, and interactive exercises, making your LLM app engaging and interactive.\\n\\n2. User Management: With LangChain, you can easily manage user profiles, track progress, and provide personalized learning experiences. It offers features like user registration, progress tracking, and performance analytics to help users track their language learning journey.\\n\\n3. Learning Management System (LMS): LangChain provides a robust LMS that allows you to create and manage language courses. You can design lesson plans, set learning objectives, and create assessments to evaluate user progress. The LMS also enables you to provide feedback and monitor user engagement.\\n\\n4. Gamification: LangChain supports gamification elements to enhance user motivation and engagement. You can incorporate features like leaderboards, badges, and rewards to encourage healthy competition and a sense of achievement among learners.\\n\\n5. Social Learning: The app can include social learning features, such as chat rooms, forums, and peer-to-peer interactions, where learners can practice their language skills and engage with other users. This fosters a sense of community and provides opportunities for collaborative learning.\\n\\n6. Analytics and Reporting: LangChain offers comprehensive analytics and reporting capabilities, allowing you to gather insights into user behavior, learning patterns, and performance. This data helps you understand user needs, identify areas for improvement, and refine your language learning content and strategies.\\n\\n7. Customization and Localization: The platform allows you to customize the app's interface, branding, and content to align with your specific requirements and target audience. Additionally, LangChain supports multiple languages, enabling localization for a global user base.\\n\\nBy leveraging the capabilities of LangChain, you can create an engaging and effective LLM app that facilitates language learning, tracks progress, and provides a personalized learning experience for users.\""
      ]
     },
     "execution_count": 5,
     "metadata": {},
     "output_type": "execute_result"
    }
   ],
   "source": [
    "from langchain_core.output_parsers import StrOutputParser\n",
    "\n",
    "output_parser = StrOutputParser()\n",
    "\n",
    "chain = prompt | llm | output_parser\n",
    "\n",
    "chain.invoke({'input': 'How can LangChain help with create LLM app?'})"
   ]
  },
  {
   "cell_type": "code",
   "execution_count": null,
   "metadata": {},
   "outputs": [],
   "source": []
  }
 ],
 "metadata": {
  "kernelspec": {
   "display_name": "langchain_v0.1.0",
   "language": "python",
   "name": "python3"
  },
  "language_info": {
   "codemirror_mode": {
    "name": "ipython",
    "version": 3
   },
   "file_extension": ".py",
   "mimetype": "text/x-python",
   "name": "python",
   "nbconvert_exporter": "python",
   "pygments_lexer": "ipython3",
   "version": "3.9.13"
  }
 },
 "nbformat": 4,
 "nbformat_minor": 2
}
